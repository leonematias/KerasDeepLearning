{
 "cells": [
  {
   "cell_type": "code",
   "execution_count": 26,
   "metadata": {},
   "outputs": [],
   "source": [
    "import pandas as pd\n",
    "import numpy as np\n",
    "import keras\n",
    "from keras import backend as K\n",
    "from sklearn.metrics import confusion_matrix\n",
    "from IPython.display import display, HTML\n",
    "\n",
    "RAND_SEED = 1\n",
    "np.random.seed(RAND_SEED)"
   ]
  },
  {
   "cell_type": "code",
   "execution_count": 27,
   "metadata": {},
   "outputs": [
    {
     "name": "stdout",
     "output_type": "stream",
     "text": [
      "2019-04-02 => Tuesday 02 April 2019\n",
      "2019-04-02 => Tue 02 April 2019\n",
      "2019-04-02 => Tuesday 02 Apr 2019\n",
      "2019-04-02 => Tue 02 Apr 2019\n",
      "2019-04-02 => 02/04/2019\n",
      "2019-04-02 => 20190402\n"
     ]
    }
   ],
   "source": [
    "BASE_PATH = \"/SOME_PATH/\"\n",
    "\n",
    "def play_with_date_formats():\n",
    "    import datetime as dt\n",
    "    input_formats = [\"%A %d %B %Y\", \"%a %d %B %Y\", \"%A %d %b %Y\", \"%a %d %b %Y\", \"%d/%m/%Y\", \"%Y%m%d\"]\n",
    "    output_format = \"%Y-%m-%d\"\n",
    "    date = dt.datetime.now().date()\n",
    "    for f in input_formats:\n",
    "        print(\"{} => {}\".format(date.strftime(output_format), date.strftime(f)))\n",
    "    \n",
    "    \n",
    "play_with_date_formats()"
   ]
  },
  {
   "cell_type": "markdown",
   "metadata": {},
   "source": [
    "#### Create data set"
   ]
  },
  {
   "cell_type": "code",
   "execution_count": 28,
   "metadata": {},
   "outputs": [
    {
     "name": "stdout",
     "output_type": "stream",
     "text": [
      "Created data set with size: 100000, from: 1900-01-01, to: 2100-12-30\n",
      "\n",
      "Samples:\n",
      "Sat 21 March 1914  =>  1914-03-21\n",
      "Thursday 28 October 2100  =>  2100-10-28\n",
      "05/06/1956  =>  1956-06-05\n",
      "19210323  =>  1921-03-23\n",
      "Tue 02 July 1985  =>  1985-07-02\n",
      "19590729  =>  1959-07-29\n",
      "29/10/1997  =>  1997-10-29\n",
      "22/04/2076  =>  2076-04-22\n",
      "12/08/1954  =>  1954-08-12\n",
      "Sunday 24 Sep 2056  =>  2056-09-24\n"
     ]
    }
   ],
   "source": [
    "def create_data_set(start_date_str, end_date_str, input_formats, output_format, size):\n",
    "    import datetime as dt\n",
    "    start_date = dt.datetime.strptime(start_date_str, output_format).date()\n",
    "    end_date = dt.datetime.strptime(end_date_str, output_format).date()\n",
    "    all_dates = [start_date + dt.timedelta(days=i) for i in range ((end_date - start_date).days)]\n",
    "    \n",
    "    output = []\n",
    "    for i in range(size):\n",
    "        current_date = all_dates[np.random.randint(len(all_dates))]\n",
    "        input_format = input_formats[np.random.randint(len(input_formats))]\n",
    "        input_str = current_date.strftime(input_format)\n",
    "        output_str = current_date.strftime(output_format)\n",
    "        output.append([input_str, output_str])\n",
    "    return np.array(output)\n",
    "\n",
    "\n",
    "input_formats = [\"%A %d %B %Y\", \"%a %d %B %Y\", \"%A %d %b %Y\", \"%a %d %b %Y\", \"%d/%m/%Y\", \"%Y%m%d\"]\n",
    "data_set = create_data_set(\"1900-01-01\", \"2100-12-31\", input_formats, \"%Y-%m-%d\", 100000)\n",
    "print(\"Created data set with size: {}, from: {}, to: {}\".format(len(data_set), min(list(data_set[:,1])), max(list(data_set[:,1]))))\n",
    "print(\"\\nSamples:\")\n",
    "for i in data_set[0:10]:\n",
    "    print(i[0], \" => \", i[1])"
   ]
  },
  {
   "cell_type": "markdown",
   "metadata": {},
   "source": [
    "#### Functions to create dictionaries and feature vectors"
   ]
  },
  {
   "cell_type": "code",
   "execution_count": 29,
   "metadata": {},
   "outputs": [
    {
     "name": "stdout",
     "output_type": "stream",
     "text": [
      "Input dates - Max size: 28, One hot size: 43\n",
      "Output dates - Max size: 11, One hot size: 13\n"
     ]
    }
   ],
   "source": [
    "UNKNOWN_INDEX = 0\n",
    "EOL_INDEX = 1\n",
    "\n",
    "def create_data_set_dictionaries(data_set):\n",
    "    return {\"input\": create_data_set_dictionaries_for(data_set[:,0]), \n",
    "            \"output\": create_data_set_dictionaries_for(data_set[:,1])}\n",
    "\n",
    "def create_data_set_dictionaries_for(data):\n",
    "    dic = create_character_dict(data, 2)\n",
    "    dic.update({\"<?>\": UNKNOWN_INDEX, \"<eol>\": EOL_INDEX})\n",
    "    max_size = max([len(s) for s in data]) + 1\n",
    "    vec_size = len(dic)\n",
    "    inv_dic = dict([(v, k) for k, v in dic.items()])\n",
    "    return {\"dict\": dic, \"max_size\": max_size, \"vec_size\": vec_size, \"inv_dict\": inv_dic}\n",
    "\n",
    "def create_character_dict(data, baseIdx = 0):\n",
    "    unique_chars = set([c for word in data for c in word])\n",
    "    return dict([(char, baseIdx + i) for i, char in enumerate(unique_chars)])\n",
    "        \n",
    "def date_to_vec(date, dictionary):\n",
    "    max_size = dictionary[\"max_size\"]\n",
    "    vec_size = dictionary[\"vec_size\"]\n",
    "    date = date.strip()[0 : vec_size]\n",
    "    output = np.zeros((max_size, vec_size), dtype=\"float32\")\n",
    "    for i, c in enumerate(date):\n",
    "        idx = dictionary[\"dict\"].get(c, UNKNOWN_INDEX)\n",
    "        output[i] = to_one_hot_vec(idx, vec_size)\n",
    "    output[i + 1] = to_one_hot_vec(EOL_INDEX, vec_size)\n",
    "    return output\n",
    "\n",
    "def vec_to_date(vec, dictionary):\n",
    "    out = \"\"\n",
    "    for one_hot in vec:\n",
    "        index = one_hot_to_index(one_hot)\n",
    "        out += dictionary[\"inv_dict\"][index]\n",
    "        if index == EOL_INDEX:\n",
    "            return out\n",
    "    return out\n",
    "\n",
    "def to_one_hot_vec(index, size):\n",
    "    v = np.zeros(size, dtype=\"float32\")\n",
    "    v[index] = 1\n",
    "    return v\n",
    "\n",
    "def one_hot_to_index(vec):\n",
    "    return vec.argmax()\n",
    "    \n",
    "\n",
    "\n",
    "dictionaries = create_data_set_dictionaries(data_set)\n",
    "print(\"Input dates - Max size: {}, One hot size: {}\".format(dictionaries[\"input\"][\"max_size\"], dictionaries[\"input\"][\"vec_size\"]))\n",
    "print(\"Output dates - Max size: {}, One hot size: {}\".format(dictionaries[\"output\"][\"max_size\"], dictionaries[\"output\"][\"vec_size\"]))\n",
    "\n"
   ]
  },
  {
   "cell_type": "markdown",
   "metadata": {},
   "source": [
    "#### Create training samples"
   ]
  },
  {
   "cell_type": "code",
   "execution_count": 30,
   "metadata": {},
   "outputs": [
    {
     "name": "stdout",
     "output_type": "stream",
     "text": [
      "Train set: (80000, 28, 43) (80000, 11, 13) float32\n",
      "Test set: (20000, 28, 43) (20000, 11, 13)\n"
     ]
    }
   ],
   "source": [
    "def create_train_test_set(data_set, dictionaries, trainSetProportion):\n",
    "    from sklearn.model_selection import train_test_split\n",
    "    X = np.zeros((len(data_set), dictionaries[\"input\"][\"max_size\"], dictionaries[\"input\"][\"vec_size\"]), dtype=\"float32\")\n",
    "    Y = np.zeros((len(data_set), dictionaries[\"output\"][\"max_size\"], dictionaries[\"output\"][\"vec_size\"]), dtype=\"float32\")\n",
    "    for i, item in enumerate(data_set):\n",
    "        X[i] = date_to_vec(item[0], dictionaries[\"input\"])\n",
    "        Y[i] = date_to_vec(item[1], dictionaries[\"output\"])\n",
    "    X_train, X_test, Y_train, Y_test = train_test_split(X, Y, test_size=1 - trainSetProportion, random_state=RAND_SEED)  \n",
    "    print(\"Train set:\", X_train.shape, Y_train.shape, X_train.dtype)\n",
    "    print(\"Test set:\", X_test.shape, Y_test.shape)\n",
    "    return (X_train, Y_train, X_test, Y_test)\n",
    "    \n",
    "    \n",
    "samples = create_train_test_set(data_set, dictionaries, 0.8)"
   ]
  },
  {
   "cell_type": "markdown",
   "metadata": {},
   "source": [
    "#### Train network"
   ]
  },
  {
   "cell_type": "code",
   "execution_count": 41,
   "metadata": {},
   "outputs": [],
   "source": [
    "def train_model(samples, dictionaries, epochs, batch_size, load_pre_trained_model):\n",
    "    from keras.layers import Bidirectional, GRU, RepeatVector, TimeDistributed, Dense, Dropout\n",
    "    import os\n",
    "    import time\n",
    "    \n",
    "    X_train, Y_train, X_test, Y_test = samples\n",
    "    in_dict = dictionaries[\"input\"]\n",
    "    out_dict = dictionaries[\"output\"]\n",
    "    \n",
    "    # Create Keras model\n",
    "    model = keras.models.Sequential([\n",
    "        Bidirectional(GRU(128), input_shape=(in_dict[\"max_size\"], in_dict[\"vec_size\"])),\n",
    "        RepeatVector(out_dict[\"max_size\"]),\n",
    "        Bidirectional(GRU(128, return_sequences=True)),\n",
    "        TimeDistributed(Dense(512, activation=\"relu\")),\n",
    "        Dropout(0.5),\n",
    "        TimeDistributed(Dense(out_dict[\"vec_size\"], activation=\"softmax\"))\n",
    "    ])\n",
    "    model.summary()\n",
    "    \n",
    "    # Compile model\n",
    "    model.compile(optimizer=\"adam\", loss=\"categorical_crossentropy\", metrics=[\"accuracy\"])\n",
    "    \n",
    "    # Callbacks\n",
    "    def print_progress(epoch, logs):\n",
    "        print(\"\\tEpoch: {}, Loss: {}%, Val Loss: {}%\".format(epoch, round(logs[\"loss\"]*100, 6), round(logs[\"val_loss\"]*100, 6)))\n",
    "    model_path = BASE_PATH + \"models/data_format_pred\"\n",
    "    fit_callbacks = [\n",
    "        keras.callbacks.ModelCheckpoint(model_path, monitor=\"loss\", save_weights_only=True),\n",
    "        keras.callbacks.LambdaCallback(on_epoch_end = lambda epoch, logs: print_progress(epoch, logs))\n",
    "    ]\n",
    "    \n",
    "    # Load pre-trained model\n",
    "    if load_pre_trained_model and os.path.isfile(model_path):\n",
    "        print(\"Loading pre-trained model: \", model_path)\n",
    "        model.load_weights(model_path)\n",
    "        \n",
    "    # Train model\n",
    "    print(\"Training (epochs: {}, batch: {})...\".format(epochs, batch_size))\n",
    "    start_time = time.time()\n",
    "    history = model.fit(X_train, Y_train, batch_size=batch_size, epochs=epochs, verbose=0, callbacks=fit_callbacks, validation_data=(X_test, Y_test))\n",
    "    elapsed_time_min = (time.time() - start_time) / 60.0\n",
    "    model.save_weights(model_path)\n",
    "    print(\"Done ({} mins)\".format(elapsed_time_min))\n",
    "    \n",
    "    # Test accuracy\n",
    "    print(\"Predicting...\")\n",
    "    score_train = model.evaluate(X_train, Y_train, verbose=0)\n",
    "    score_test = model.evaluate(X_test, Y_test, verbose=0)\n",
    "    stats = {\n",
    "        \"training_time_min\": elapsed_time_min,\n",
    "        \"train_loss\": score_train[0] * 100.0,\n",
    "        \"test_loss\": score_test[0] * 100.0,\n",
    "        \"train_acc\": score_train[1] * 100.0,\n",
    "        \"test_acc\": score_test[1] * 100.0,\n",
    "    }\n",
    "    print(\"Train set - Loss: {}%, Accuracy: {}%\".format(round(stats[\"train_loss\"], 4), round(stats[\"train_acc\"], 4)))\n",
    "    print(\"Test set - Loss: {}%, Accuracy: {}%\".format(round(stats[\"test_loss\"], 4), round(stats[\"test_acc\"], 4)))\n",
    "    \n",
    "    # Plot training\n",
    "    plot_training_progress(history)\n",
    "    \n",
    "    return (model, history, stats)\n",
    "\n",
    "def plot_training_progress(history):\n",
    "    from matplotlib import pyplot as plt\n",
    "    def plot(title, x_axis_label, y_axis_label, y_label, y_data, y_val_label, y_val_data):\n",
    "        x = np.arange(len(y_data))\n",
    "        fix, ax = plt.subplots(1,1, figsize=(20,8))\n",
    "        plt.scatter(x, y_data, c=\"red\", label=y_label)\n",
    "        plt.plot(x, y_data, color=\"red\")\n",
    "        plt.scatter(x, y_val_data, c=\"blue\", label=y_val_label)\n",
    "        plt.plot(x, y_val_data, color=\"blue\")\n",
    "        plt.title(title)\n",
    "        plt.xlabel(x_axis_label)\n",
    "        plt.ylabel(y_axis_label)\n",
    "        plt.legend()\n",
    "        plt.show\n",
    "    y_loss = np.array(history.history[\"loss\"]) * 100.0\n",
    "    y_val_loss = np.array(history.history[\"val_loss\"]) * 100.0\n",
    "    y_acc = np.array(history.history[\"acc\"]) * 100.0\n",
    "    y_val_acc = np.array(history.history[\"val_acc\"]) * 100.0\n",
    "    plot(\"Training progress - Loss\", \"Epochs\", \"Loss\", \"Train loss\", y_loss, \"Val loss\", y_val_loss)\n",
    "    plot(\"Training progress - Accuracy\", \"Epochs\", \"Loss\", \"Train acc\", y_loss, \"Val acc\", y_val_loss)\n",
    "        \n",
    "def predict_format(dates, dictionaries, model):\n",
    "    tot_dates = len(dates)\n",
    "    X = np.zeros((tot_dates, dictionaries[\"input\"][\"max_size\"], dictionaries[\"input\"][\"vec_size\"]), dtype=\"float32\")\n",
    "    for i, date in enumerate(dates):\n",
    "        X[i] = date_to_vec(date, dictionaries[\"input\"])\n",
    "        \n",
    "    Y_pred = model.predict(X)\n",
    "    output = []\n",
    "    for i, date in enumerate(dates):\n",
    "        date_pred = vec_to_date(Y_pred[i], dictionaries[\"output\"])\n",
    "        output.append({\"date_input\": date, \"date_pred\": date_pred})\n",
    "    return output\n",
    "    \n",
    "    "
   ]
  },
  {
   "cell_type": "code",
   "execution_count": 39,
   "metadata": {},
   "outputs": [
    {
     "name": "stdout",
     "output_type": "stream",
     "text": [
      "_________________________________________________________________\n",
      "Layer (type)                 Output Shape              Param #   \n",
      "=================================================================\n",
      "bidirectional_9 (Bidirection (None, 256)               132096    \n",
      "_________________________________________________________________\n",
      "repeat_vector_5 (RepeatVecto (None, 11, 256)           0         \n",
      "_________________________________________________________________\n",
      "bidirectional_10 (Bidirectio (None, 11, 256)           295680    \n",
      "_________________________________________________________________\n",
      "time_distributed_9 (TimeDist (None, 11, 512)           131584    \n",
      "_________________________________________________________________\n",
      "dropout_5 (Dropout)          (None, 11, 512)           0         \n",
      "_________________________________________________________________\n",
      "time_distributed_10 (TimeDis (None, 11, 13)            6669      \n",
      "=================================================================\n",
      "Total params: 566,029\n",
      "Trainable params: 566,029\n",
      "Non-trainable params: 0\n",
      "_________________________________________________________________\n",
      "Training (epochs: 15, batch: 128)...\n",
      "\tEpoch: 0, Loss: 98.559607%, Val Loss: 67.314127%\n",
      "\tEpoch: 1, Loss: 48.996051%, Val Loss: 26.586814%\n",
      "\tEpoch: 2, Loss: 16.429821%, Val Loss: 4.01964%\n",
      "\tEpoch: 3, Loss: 3.026294%, Val Loss: 1.011365%\n",
      "\tEpoch: 4, Loss: 0.607408%, Val Loss: 0.9379%\n",
      "\tEpoch: 5, Loss: 0.740125%, Val Loss: 0.036106%\n",
      "\tEpoch: 6, Loss: 0.143352%, Val Loss: 0.078209%\n",
      "\tEpoch: 7, Loss: 0.681344%, Val Loss: 0.038812%\n",
      "\tEpoch: 8, Loss: 0.049213%, Val Loss: 0.000761%\n",
      "\tEpoch: 9, Loss: 0.55917%, Val Loss: 2.413091%\n",
      "\tEpoch: 10, Loss: 0.168635%, Val Loss: 0.000943%\n",
      "\tEpoch: 11, Loss: 0.156071%, Val Loss: 0.023988%\n",
      "\tEpoch: 12, Loss: 0.190311%, Val Loss: 0.000559%\n",
      "\tEpoch: 13, Loss: 0.329422%, Val Loss: 0.022934%\n",
      "\tEpoch: 14, Loss: 0.017034%, Val Loss: 0.000294%\n",
      "Done (31.24573613802592 mins)\n",
      "Predicting...\n",
      "Train set - Loss: 0.0003%, Accuracy: 100.0%\n",
      "Test set - Loss: 0.0003%, Accuracy: 100.0%\n"
     ]
    },
    {
     "data": {
      "image/png": "[encoded data removed]",
      "text/plain": [
       "<Figure size 1440x576 with 1 Axes>"
      ]
     },
     "metadata": {
      "needs_background": "light"
     },
     "output_type": "display_data"
    },
    {
     "data": {
      "image/png": "[encoded data removed]",
      "text/plain": [
       "<Figure size 1440x576 with 1 Axes>"
      ]
     },
     "metadata": {
      "needs_background": "light"
     },
     "output_type": "display_data"
    }
   ],
   "source": [
    "train_results = train_model(samples, dictionaries, 15, 128, False)"
   ]
  },
  {
   "cell_type": "code",
   "execution_count": 43,
   "metadata": {},
   "outputs": [
    {
     "data": {
      "text/plain": [
       "[{'date_input': 'Saturday 02 January 2015', 'date_pred': '2015-01-02<eol>'},\n",
       " {'date_input': 'Monday 13 March 2017', 'date_pred': '2017-03-13<eol>'},\n",
       " {'date_input': 'Wed 29 Jul 1985', 'date_pred': '1985-07-29<eol>'}]"
      ]
     },
     "execution_count": 43,
     "metadata": {},
     "output_type": "execute_result"
    }
   ],
   "source": [
    "dates_to_predict = [\n",
    "    \"Saturday 02 January 2015\",\n",
    "    \"Monday 13 March 2017\",\n",
    "    \"Wed 29 Jul 1985\"\n",
    "]\n",
    "predict_format(dates_to_predict, dictionaries, train_results[0])"
   ]
  },
  {
   "cell_type": "code",
   "execution_count": null,
   "metadata": {},
   "outputs": [],
   "source": []
  }
 ],
 "metadata": {
  "kernelspec": {
   "display_name": "Python 3",
   "language": "python",
   "name": "python3"
  },
  "language_info": {
   "codemirror_mode": {
    "name": "ipython",
    "version": 3
   },
   "file_extension": ".py",
   "mimetype": "text/x-python",
   "name": "python",
   "nbconvert_exporter": "python",
   "pygments_lexer": "ipython3",
   "version": "3.6.6"
  }
 },
 "nbformat": 4,
 "nbformat_minor": 2
}
